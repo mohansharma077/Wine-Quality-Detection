{
 "cells": [
  {
   "cell_type": "code",
   "execution_count": 1,
   "id": "dbb4245d",
   "metadata": {
    "_cell_guid": "b1076dfc-b9ad-4769-8c92-a6c4dae69d19",
    "_uuid": "8f2839f25d086af736a60e9eeb907d3b93b6e0e5",
    "execution": {
     "iopub.execute_input": "2022-12-31T09:37:02.851968Z",
     "iopub.status.busy": "2022-12-31T09:37:02.851070Z",
     "iopub.status.idle": "2022-12-31T09:37:02.869747Z",
     "shell.execute_reply": "2022-12-31T09:37:02.868306Z"
    },
    "papermill": {
     "duration": 0.040293,
     "end_time": "2022-12-31T09:37:02.873505",
     "exception": false,
     "start_time": "2022-12-31T09:37:02.833212",
     "status": "completed"
    },
    "tags": []
   },
   "outputs": [
    {
     "name": "stdout",
     "output_type": "stream",
     "text": [
      "/kaggle/input/red-wine-quality-cortez-et-al-2009/winequality-red.csv\n"
     ]
    }
   ],
   "source": [
    "# This Python 3 environment comes with many helpful analytics libraries installed\n",
    "# It is defined by the kaggle/python Docker image: https://github.com/kaggle/docker-python\n",
    "# For example, here's several helpful packages to load\n",
    "\n",
    "import numpy as np # linear algebra\n",
    "import pandas as pd # data processing, CSV file I/O (e.g. pd.read_csv)\n",
    "\n",
    "# Input data files are available in the read-only \"../input/\" directory\n",
    "# For example, running this (by clicking run or pressing Shift+Enter) will list all files under the input directory\n",
    "\n",
    "import os\n",
    "for dirname, _, filenames in os.walk('/kaggle/input'):\n",
    "    for filename in filenames:\n",
    "        print(os.path.join(dirname, filename))\n",
    "\n",
    "# You can write up to 20GB to the current directory (/kaggle/working/) that gets preserved as output when you create a version using \"Save & Run All\" \n",
    "# You can also write temporary files to /kaggle/temp/, but they won't be saved outside of the current session"
   ]
  },
  {
   "cell_type": "markdown",
   "id": "cd9e6612",
   "metadata": {
    "papermill": {
     "duration": 0.013921,
     "end_time": "2022-12-31T09:37:02.904667",
     "exception": false,
     "start_time": "2022-12-31T09:37:02.890746",
     "status": "completed"
    },
    "tags": []
   },
   "source": [
    "# Importing Libraries"
   ]
  },
  {
   "cell_type": "code",
   "execution_count": 2,
   "id": "f406b9c6",
   "metadata": {
    "execution": {
     "iopub.execute_input": "2022-12-31T09:37:02.935158Z",
     "iopub.status.busy": "2022-12-31T09:37:02.934744Z",
     "iopub.status.idle": "2022-12-31T09:37:04.157485Z",
     "shell.execute_reply": "2022-12-31T09:37:04.156087Z"
    },
    "papermill": {
     "duration": 1.241645,
     "end_time": "2022-12-31T09:37:04.160519",
     "exception": false,
     "start_time": "2022-12-31T09:37:02.918874",
     "status": "completed"
    },
    "tags": []
   },
   "outputs": [],
   "source": [
    "import matplotlib.pyplot as plt\n",
    "import seaborn as sns"
   ]
  },
  {
   "cell_type": "markdown",
   "id": "21987531",
   "metadata": {
    "papermill": {
     "duration": 0.013987,
     "end_time": "2022-12-31T09:37:04.189091",
     "exception": false,
     "start_time": "2022-12-31T09:37:04.175104",
     "status": "completed"
    },
    "tags": []
   },
   "source": [
    "# Loading Datasets"
   ]
  },
  {
   "cell_type": "code",
   "execution_count": 3,
   "id": "d5349ab3",
   "metadata": {
    "execution": {
     "iopub.execute_input": "2022-12-31T09:37:04.219749Z",
     "iopub.status.busy": "2022-12-31T09:37:04.219260Z",
     "iopub.status.idle": "2022-12-31T09:37:04.270808Z",
     "shell.execute_reply": "2022-12-31T09:37:04.269520Z"
    },
    "papermill": {
     "duration": 0.07025,
     "end_time": "2022-12-31T09:37:04.273447",
     "exception": false,
     "start_time": "2022-12-31T09:37:04.203197",
     "status": "completed"
    },
    "tags": []
   },
   "outputs": [
    {
     "data": {
      "text/html": [
       "<div>\n",
       "<style scoped>\n",
       "    .dataframe tbody tr th:only-of-type {\n",
       "        vertical-align: middle;\n",
       "    }\n",
       "\n",
       "    .dataframe tbody tr th {\n",
       "        vertical-align: top;\n",
       "    }\n",
       "\n",
       "    .dataframe thead th {\n",
       "        text-align: right;\n",
       "    }\n",
       "</style>\n",
       "<table border=\"1\" class=\"dataframe\">\n",
       "  <thead>\n",
       "    <tr style=\"text-align: right;\">\n",
       "      <th></th>\n",
       "      <th>fixed acidity</th>\n",
       "      <th>volatile acidity</th>\n",
       "      <th>citric acid</th>\n",
       "      <th>residual sugar</th>\n",
       "      <th>chlorides</th>\n",
       "      <th>free sulfur dioxide</th>\n",
       "      <th>total sulfur dioxide</th>\n",
       "      <th>density</th>\n",
       "      <th>pH</th>\n",
       "      <th>sulphates</th>\n",
       "      <th>alcohol</th>\n",
       "      <th>quality</th>\n",
       "    </tr>\n",
       "  </thead>\n",
       "  <tbody>\n",
       "    <tr>\n",
       "      <th>0</th>\n",
       "      <td>7.4</td>\n",
       "      <td>0.70</td>\n",
       "      <td>0.00</td>\n",
       "      <td>1.9</td>\n",
       "      <td>0.076</td>\n",
       "      <td>11.0</td>\n",
       "      <td>34.0</td>\n",
       "      <td>0.9978</td>\n",
       "      <td>3.51</td>\n",
       "      <td>0.56</td>\n",
       "      <td>9.4</td>\n",
       "      <td>5</td>\n",
       "    </tr>\n",
       "    <tr>\n",
       "      <th>1</th>\n",
       "      <td>7.8</td>\n",
       "      <td>0.88</td>\n",
       "      <td>0.00</td>\n",
       "      <td>2.6</td>\n",
       "      <td>0.098</td>\n",
       "      <td>25.0</td>\n",
       "      <td>67.0</td>\n",
       "      <td>0.9968</td>\n",
       "      <td>3.20</td>\n",
       "      <td>0.68</td>\n",
       "      <td>9.8</td>\n",
       "      <td>5</td>\n",
       "    </tr>\n",
       "    <tr>\n",
       "      <th>2</th>\n",
       "      <td>7.8</td>\n",
       "      <td>0.76</td>\n",
       "      <td>0.04</td>\n",
       "      <td>2.3</td>\n",
       "      <td>0.092</td>\n",
       "      <td>15.0</td>\n",
       "      <td>54.0</td>\n",
       "      <td>0.9970</td>\n",
       "      <td>3.26</td>\n",
       "      <td>0.65</td>\n",
       "      <td>9.8</td>\n",
       "      <td>5</td>\n",
       "    </tr>\n",
       "    <tr>\n",
       "      <th>3</th>\n",
       "      <td>11.2</td>\n",
       "      <td>0.28</td>\n",
       "      <td>0.56</td>\n",
       "      <td>1.9</td>\n",
       "      <td>0.075</td>\n",
       "      <td>17.0</td>\n",
       "      <td>60.0</td>\n",
       "      <td>0.9980</td>\n",
       "      <td>3.16</td>\n",
       "      <td>0.58</td>\n",
       "      <td>9.8</td>\n",
       "      <td>6</td>\n",
       "    </tr>\n",
       "    <tr>\n",
       "      <th>4</th>\n",
       "      <td>7.4</td>\n",
       "      <td>0.70</td>\n",
       "      <td>0.00</td>\n",
       "      <td>1.9</td>\n",
       "      <td>0.076</td>\n",
       "      <td>11.0</td>\n",
       "      <td>34.0</td>\n",
       "      <td>0.9978</td>\n",
       "      <td>3.51</td>\n",
       "      <td>0.56</td>\n",
       "      <td>9.4</td>\n",
       "      <td>5</td>\n",
       "    </tr>\n",
       "  </tbody>\n",
       "</table>\n",
       "</div>"
      ],
      "text/plain": [
       "   fixed acidity  volatile acidity  citric acid  residual sugar  chlorides  \\\n",
       "0            7.4              0.70         0.00             1.9      0.076   \n",
       "1            7.8              0.88         0.00             2.6      0.098   \n",
       "2            7.8              0.76         0.04             2.3      0.092   \n",
       "3           11.2              0.28         0.56             1.9      0.075   \n",
       "4            7.4              0.70         0.00             1.9      0.076   \n",
       "\n",
       "   free sulfur dioxide  total sulfur dioxide  density    pH  sulphates  \\\n",
       "0                 11.0                  34.0   0.9978  3.51       0.56   \n",
       "1                 25.0                  67.0   0.9968  3.20       0.68   \n",
       "2                 15.0                  54.0   0.9970  3.26       0.65   \n",
       "3                 17.0                  60.0   0.9980  3.16       0.58   \n",
       "4                 11.0                  34.0   0.9978  3.51       0.56   \n",
       "\n",
       "   alcohol  quality  \n",
       "0      9.4        5  \n",
       "1      9.8        5  \n",
       "2      9.8        5  \n",
       "3      9.8        6  \n",
       "4      9.4        5  "
      ]
     },
     "execution_count": 3,
     "metadata": {},
     "output_type": "execute_result"
    }
   ],
   "source": [
    "df=pd.read_csv('/kaggle/input/red-wine-quality-cortez-et-al-2009/winequality-red.csv')\n",
    "df.head()"
   ]
  },
  {
   "cell_type": "code",
   "execution_count": 4,
   "id": "4698cc57",
   "metadata": {
    "execution": {
     "iopub.execute_input": "2022-12-31T09:37:04.305739Z",
     "iopub.status.busy": "2022-12-31T09:37:04.305055Z",
     "iopub.status.idle": "2022-12-31T09:37:04.320113Z",
     "shell.execute_reply": "2022-12-31T09:37:04.318829Z"
    },
    "papermill": {
     "duration": 0.034159,
     "end_time": "2022-12-31T09:37:04.322528",
     "exception": false,
     "start_time": "2022-12-31T09:37:04.288369",
     "status": "completed"
    },
    "tags": []
   },
   "outputs": [
    {
     "data": {
      "text/plain": [
       "5    681\n",
       "6    638\n",
       "7    199\n",
       "4     53\n",
       "8     18\n",
       "3     10\n",
       "Name: quality, dtype: int64"
      ]
     },
     "execution_count": 4,
     "metadata": {},
     "output_type": "execute_result"
    }
   ],
   "source": [
    "df['quality'].value_counts()"
   ]
  },
  {
   "cell_type": "markdown",
   "id": "b2028c67",
   "metadata": {
    "papermill": {
     "duration": 0.014546,
     "end_time": "2022-12-31T09:37:04.351542",
     "exception": false,
     "start_time": "2022-12-31T09:37:04.336996",
     "status": "completed"
    },
    "tags": []
   },
   "source": [
    "# Removing The Spaces of column by \" _ \""
   ]
  },
  {
   "cell_type": "code",
   "execution_count": 5,
   "id": "e501f2a4",
   "metadata": {
    "execution": {
     "iopub.execute_input": "2022-12-31T09:37:04.382904Z",
     "iopub.status.busy": "2022-12-31T09:37:04.382461Z",
     "iopub.status.idle": "2022-12-31T09:37:04.405465Z",
     "shell.execute_reply": "2022-12-31T09:37:04.404174Z"
    },
    "papermill": {
     "duration": 0.041752,
     "end_time": "2022-12-31T09:37:04.407995",
     "exception": false,
     "start_time": "2022-12-31T09:37:04.366243",
     "status": "completed"
    },
    "tags": []
   },
   "outputs": [
    {
     "data": {
      "text/html": [
       "<div>\n",
       "<style scoped>\n",
       "    .dataframe tbody tr th:only-of-type {\n",
       "        vertical-align: middle;\n",
       "    }\n",
       "\n",
       "    .dataframe tbody tr th {\n",
       "        vertical-align: top;\n",
       "    }\n",
       "\n",
       "    .dataframe thead th {\n",
       "        text-align: right;\n",
       "    }\n",
       "</style>\n",
       "<table border=\"1\" class=\"dataframe\">\n",
       "  <thead>\n",
       "    <tr style=\"text-align: right;\">\n",
       "      <th></th>\n",
       "      <th>fixed_acidity</th>\n",
       "      <th>volatile_acidity</th>\n",
       "      <th>citric_acid</th>\n",
       "      <th>residual_sugar</th>\n",
       "      <th>chlorides</th>\n",
       "      <th>free_sulfur_dioxide</th>\n",
       "      <th>total_sulfur_dioxide</th>\n",
       "      <th>density</th>\n",
       "      <th>pH</th>\n",
       "      <th>sulphates</th>\n",
       "      <th>alcohol</th>\n",
       "      <th>quality</th>\n",
       "    </tr>\n",
       "  </thead>\n",
       "  <tbody>\n",
       "    <tr>\n",
       "      <th>0</th>\n",
       "      <td>7.4</td>\n",
       "      <td>0.70</td>\n",
       "      <td>0.00</td>\n",
       "      <td>1.9</td>\n",
       "      <td>0.076</td>\n",
       "      <td>11.0</td>\n",
       "      <td>34.0</td>\n",
       "      <td>0.9978</td>\n",
       "      <td>3.51</td>\n",
       "      <td>0.56</td>\n",
       "      <td>9.4</td>\n",
       "      <td>5</td>\n",
       "    </tr>\n",
       "    <tr>\n",
       "      <th>1</th>\n",
       "      <td>7.8</td>\n",
       "      <td>0.88</td>\n",
       "      <td>0.00</td>\n",
       "      <td>2.6</td>\n",
       "      <td>0.098</td>\n",
       "      <td>25.0</td>\n",
       "      <td>67.0</td>\n",
       "      <td>0.9968</td>\n",
       "      <td>3.20</td>\n",
       "      <td>0.68</td>\n",
       "      <td>9.8</td>\n",
       "      <td>5</td>\n",
       "    </tr>\n",
       "    <tr>\n",
       "      <th>2</th>\n",
       "      <td>7.8</td>\n",
       "      <td>0.76</td>\n",
       "      <td>0.04</td>\n",
       "      <td>2.3</td>\n",
       "      <td>0.092</td>\n",
       "      <td>15.0</td>\n",
       "      <td>54.0</td>\n",
       "      <td>0.9970</td>\n",
       "      <td>3.26</td>\n",
       "      <td>0.65</td>\n",
       "      <td>9.8</td>\n",
       "      <td>5</td>\n",
       "    </tr>\n",
       "    <tr>\n",
       "      <th>3</th>\n",
       "      <td>11.2</td>\n",
       "      <td>0.28</td>\n",
       "      <td>0.56</td>\n",
       "      <td>1.9</td>\n",
       "      <td>0.075</td>\n",
       "      <td>17.0</td>\n",
       "      <td>60.0</td>\n",
       "      <td>0.9980</td>\n",
       "      <td>3.16</td>\n",
       "      <td>0.58</td>\n",
       "      <td>9.8</td>\n",
       "      <td>6</td>\n",
       "    </tr>\n",
       "    <tr>\n",
       "      <th>4</th>\n",
       "      <td>7.4</td>\n",
       "      <td>0.70</td>\n",
       "      <td>0.00</td>\n",
       "      <td>1.9</td>\n",
       "      <td>0.076</td>\n",
       "      <td>11.0</td>\n",
       "      <td>34.0</td>\n",
       "      <td>0.9978</td>\n",
       "      <td>3.51</td>\n",
       "      <td>0.56</td>\n",
       "      <td>9.4</td>\n",
       "      <td>5</td>\n",
       "    </tr>\n",
       "    <tr>\n",
       "      <th>5</th>\n",
       "      <td>7.4</td>\n",
       "      <td>0.66</td>\n",
       "      <td>0.00</td>\n",
       "      <td>1.8</td>\n",
       "      <td>0.075</td>\n",
       "      <td>13.0</td>\n",
       "      <td>40.0</td>\n",
       "      <td>0.9978</td>\n",
       "      <td>3.51</td>\n",
       "      <td>0.56</td>\n",
       "      <td>9.4</td>\n",
       "      <td>5</td>\n",
       "    </tr>\n",
       "  </tbody>\n",
       "</table>\n",
       "</div>"
      ],
      "text/plain": [
       "   fixed_acidity  volatile_acidity  citric_acid  residual_sugar  chlorides  \\\n",
       "0            7.4              0.70         0.00             1.9      0.076   \n",
       "1            7.8              0.88         0.00             2.6      0.098   \n",
       "2            7.8              0.76         0.04             2.3      0.092   \n",
       "3           11.2              0.28         0.56             1.9      0.075   \n",
       "4            7.4              0.70         0.00             1.9      0.076   \n",
       "5            7.4              0.66         0.00             1.8      0.075   \n",
       "\n",
       "   free_sulfur_dioxide  total_sulfur_dioxide  density    pH  sulphates  \\\n",
       "0                 11.0                  34.0   0.9978  3.51       0.56   \n",
       "1                 25.0                  67.0   0.9968  3.20       0.68   \n",
       "2                 15.0                  54.0   0.9970  3.26       0.65   \n",
       "3                 17.0                  60.0   0.9980  3.16       0.58   \n",
       "4                 11.0                  34.0   0.9978  3.51       0.56   \n",
       "5                 13.0                  40.0   0.9978  3.51       0.56   \n",
       "\n",
       "   alcohol  quality  \n",
       "0      9.4        5  \n",
       "1      9.8        5  \n",
       "2      9.8        5  \n",
       "3      9.8        6  \n",
       "4      9.4        5  \n",
       "5      9.4        5  "
      ]
     },
     "execution_count": 5,
     "metadata": {},
     "output_type": "execute_result"
    }
   ],
   "source": [
    "df.columns=df.columns.str.replace(' ','_')\n",
    "df.head(6)"
   ]
  },
  {
   "cell_type": "markdown",
   "id": "76e1afb7",
   "metadata": {
    "papermill": {
     "duration": 0.015492,
     "end_time": "2022-12-31T09:37:04.438446",
     "exception": false,
     "start_time": "2022-12-31T09:37:04.422954",
     "status": "completed"
    },
    "tags": []
   },
   "source": [
    "> Checking Null value"
   ]
  },
  {
   "cell_type": "code",
   "execution_count": 6,
   "id": "8c688598",
   "metadata": {
    "execution": {
     "iopub.execute_input": "2022-12-31T09:37:04.470385Z",
     "iopub.status.busy": "2022-12-31T09:37:04.469706Z",
     "iopub.status.idle": "2022-12-31T09:37:04.478742Z",
     "shell.execute_reply": "2022-12-31T09:37:04.477779Z"
    },
    "papermill": {
     "duration": 0.027893,
     "end_time": "2022-12-31T09:37:04.481110",
     "exception": false,
     "start_time": "2022-12-31T09:37:04.453217",
     "status": "completed"
    },
    "tags": []
   },
   "outputs": [
    {
     "data": {
      "text/plain": [
       "fixed_acidity           0\n",
       "volatile_acidity        0\n",
       "citric_acid             0\n",
       "residual_sugar          0\n",
       "chlorides               0\n",
       "free_sulfur_dioxide     0\n",
       "total_sulfur_dioxide    0\n",
       "density                 0\n",
       "pH                      0\n",
       "sulphates               0\n",
       "alcohol                 0\n",
       "quality                 0\n",
       "dtype: int64"
      ]
     },
     "execution_count": 6,
     "metadata": {},
     "output_type": "execute_result"
    }
   ],
   "source": [
    "df.isnull().sum()"
   ]
  },
  {
   "cell_type": "code",
   "execution_count": null,
   "id": "e175c3be",
   "metadata": {
    "papermill": {
     "duration": 0.014697,
     "end_time": "2022-12-31T09:37:04.511547",
     "exception": false,
     "start_time": "2022-12-31T09:37:04.496850",
     "status": "completed"
    },
    "tags": []
   },
   "outputs": [],
   "source": []
  },
  {
   "cell_type": "markdown",
   "id": "ba9f828f",
   "metadata": {
    "papermill": {
     "duration": 0.015113,
     "end_time": "2022-12-31T09:37:04.541736",
     "exception": false,
     "start_time": "2022-12-31T09:37:04.526623",
     "status": "completed"
    },
    "tags": []
   },
   "source": [
    "# **plotting**"
   ]
  },
  {
   "cell_type": "markdown",
   "id": "50743df7",
   "metadata": {
    "papermill": {
     "duration": 0.014708,
     "end_time": "2022-12-31T09:37:04.572056",
     "exception": false,
     "start_time": "2022-12-31T09:37:04.557348",
     "status": "completed"
    },
    "tags": []
   },
   "source": []
  },
  {
   "cell_type": "code",
   "execution_count": 7,
   "id": "67a55f6d",
   "metadata": {
    "execution": {
     "iopub.execute_input": "2022-12-31T09:37:04.604506Z",
     "iopub.status.busy": "2022-12-31T09:37:04.603751Z",
     "iopub.status.idle": "2022-12-31T09:37:04.983250Z",
     "shell.execute_reply": "2022-12-31T09:37:04.981731Z"
    },
    "papermill": {
     "duration": 0.398839,
     "end_time": "2022-12-31T09:37:04.985831",
     "exception": false,
     "start_time": "2022-12-31T09:37:04.586992",
     "status": "completed"
    },
    "tags": []
   },
   "outputs": [
    {
     "data": {
      "text/plain": [
       "<AxesSubplot:xlabel='quality', ylabel='citric_acid'>"
      ]
     },
     "execution_count": 7,
     "metadata": {},
     "output_type": "execute_result"
    },
    {
     "data": {
      "image/png": "[encoded data removed]",
      "text/plain": [
       "<Figure size 432x288 with 1 Axes>"
      ]
     },
     "metadata": {
      "needs_background": "light"
     },
     "output_type": "display_data"
    }
   ],
   "source": [
    "sns.barplot(x='quality',y='citric_acid',data=df)"
   ]
  },
  {
   "cell_type": "code",
   "execution_count": 8,
   "id": "fb2926de",
   "metadata": {
    "execution": {
     "iopub.execute_input": "2022-12-31T09:37:05.019562Z",
     "iopub.status.busy": "2022-12-31T09:37:05.019089Z",
     "iopub.status.idle": "2022-12-31T09:37:05.364483Z",
     "shell.execute_reply": "2022-12-31T09:37:05.363387Z"
    },
    "papermill": {
     "duration": 0.365906,
     "end_time": "2022-12-31T09:37:05.367112",
     "exception": false,
     "start_time": "2022-12-31T09:37:05.001206",
     "status": "completed"
    },
    "tags": []
   },
   "outputs": [
    {
     "data": {
      "text/plain": [
       "<AxesSubplot:xlabel='quality', ylabel='chlorides'>"
      ]
     },
     "execution_count": 8,
     "metadata": {},
     "output_type": "execute_result"
    },
    {
     "data": {
      "image/png": "[encoded data removed]",
      "text/plain": [
       "<Figure size 432x288 with 1 Axes>"
      ]
     },
     "metadata": {
      "needs_background": "light"
     },
     "output_type": "display_data"
    }
   ],
   "source": [
    "sns.barplot(x='quality',y='chlorides',data=df)"
   ]
  },
  {
   "cell_type": "code",
   "execution_count": 9,
   "id": "e32ced8f",
   "metadata": {
    "execution": {
     "iopub.execute_input": "2022-12-31T09:37:05.401075Z",
     "iopub.status.busy": "2022-12-31T09:37:05.400218Z",
     "iopub.status.idle": "2022-12-31T09:37:05.736534Z",
     "shell.execute_reply": "2022-12-31T09:37:05.735159Z"
    },
    "papermill": {
     "duration": 0.356598,
     "end_time": "2022-12-31T09:37:05.739580",
     "exception": false,
     "start_time": "2022-12-31T09:37:05.382982",
     "status": "completed"
    },
    "tags": []
   },
   "outputs": [
    {
     "data": {
      "text/plain": [
       "<AxesSubplot:xlabel='quality', ylabel='residual_sugar'>"
      ]
     },
     "execution_count": 9,
     "metadata": {},
     "output_type": "execute_result"
    },
    {
     "data": {
      "image/png": "[encoded data removed]",
      "text/plain": [
       "<Figure size 432x288 with 1 Axes>"
      ]
     },
     "metadata": {
      "needs_background": "light"
     },
     "output_type": "display_data"
    }
   ],
   "source": [
    "sns.barplot(x='quality',y='residual_sugar',data=df)"
   ]
  },
  {
   "cell_type": "code",
   "execution_count": 10,
   "id": "c5083539",
   "metadata": {
    "execution": {
     "iopub.execute_input": "2022-12-31T09:37:05.774314Z",
     "iopub.status.busy": "2022-12-31T09:37:05.773781Z",
     "iopub.status.idle": "2022-12-31T09:37:07.524653Z",
     "shell.execute_reply": "2022-12-31T09:37:07.523724Z"
    },
    "papermill": {
     "duration": 1.770892,
     "end_time": "2022-12-31T09:37:07.527216",
     "exception": false,
     "start_time": "2022-12-31T09:37:05.756324",
     "status": "completed"
    },
    "tags": []
   },
   "outputs": [
    {
     "data": {
      "text/plain": [
       "<AxesSubplot:xlabel='citric_acid', ylabel='fixed_acidity'>"
      ]
     },
     "execution_count": 10,
     "metadata": {},
     "output_type": "execute_result"
    },
    {
     "data": {
      "image/png": "[encoded data removed]",
      "text/plain": [
       "<Figure size 432x288 with 1 Axes>"
      ]
     },
     "metadata": {
      "needs_background": "light"
     },
     "output_type": "display_data"
    }
   ],
   "source": [
    "sns.lineplot(x='citric_acid',y='fixed_acidity',data=df)"
   ]
  },
  {
   "cell_type": "code",
   "execution_count": 11,
   "id": "6b2b85dc",
   "metadata": {
    "execution": {
     "iopub.execute_input": "2022-12-31T09:37:07.564053Z",
     "iopub.status.busy": "2022-12-31T09:37:07.563267Z",
     "iopub.status.idle": "2022-12-31T09:37:07.675837Z",
     "shell.execute_reply": "2022-12-31T09:37:07.674111Z"
    },
    "papermill": {
     "duration": 0.134608,
     "end_time": "2022-12-31T09:37:07.678714",
     "exception": false,
     "start_time": "2022-12-31T09:37:07.544106",
     "status": "completed"
    },
    "tags": []
   },
   "outputs": [],
   "source": [
    "def qualityUpdate(df):\n",
    "    for i, row in df.iterrows():\n",
    "        val=row['quality']\n",
    "        if val<=6:\n",
    "            df.at[i,'quality']=0\n",
    "        else:\n",
    "            df.at[i,'quality']=1\n",
    "qualityUpdate(df)\n",
    "    \n",
    "    "
   ]
  },
  {
   "cell_type": "code",
   "execution_count": 12,
   "id": "dd28c281",
   "metadata": {
    "execution": {
     "iopub.execute_input": "2022-12-31T09:37:07.714599Z",
     "iopub.status.busy": "2022-12-31T09:37:07.714093Z",
     "iopub.status.idle": "2022-12-31T09:37:07.722247Z",
     "shell.execute_reply": "2022-12-31T09:37:07.721337Z"
    },
    "papermill": {
     "duration": 0.028568,
     "end_time": "2022-12-31T09:37:07.724533",
     "exception": false,
     "start_time": "2022-12-31T09:37:07.695965",
     "status": "completed"
    },
    "tags": []
   },
   "outputs": [
    {
     "data": {
      "text/plain": [
       "0    1382\n",
       "1     217\n",
       "Name: quality, dtype: int64"
      ]
     },
     "execution_count": 12,
     "metadata": {},
     "output_type": "execute_result"
    }
   ],
   "source": [
    "df['quality'].value_counts()"
   ]
  },
  {
   "cell_type": "code",
   "execution_count": null,
   "id": "9abff3fb",
   "metadata": {
    "papermill": {
     "duration": 0.017297,
     "end_time": "2022-12-31T09:37:07.760024",
     "exception": false,
     "start_time": "2022-12-31T09:37:07.742727",
     "status": "completed"
    },
    "tags": []
   },
   "outputs": [],
   "source": []
  },
  {
   "cell_type": "markdown",
   "id": "179410ce",
   "metadata": {
    "papermill": {
     "duration": 0.017835,
     "end_time": "2022-12-31T09:37:07.795300",
     "exception": false,
     "start_time": "2022-12-31T09:37:07.777465",
     "status": "completed"
    },
    "tags": []
   },
   "source": [
    "# train_test_split"
   ]
  },
  {
   "cell_type": "code",
   "execution_count": 13,
   "id": "4275a1c6",
   "metadata": {
    "execution": {
     "iopub.execute_input": "2022-12-31T09:37:07.833362Z",
     "iopub.status.busy": "2022-12-31T09:37:07.832262Z",
     "iopub.status.idle": "2022-12-31T09:37:08.071121Z",
     "shell.execute_reply": "2022-12-31T09:37:08.069813Z"
    },
    "papermill": {
     "duration": 0.261866,
     "end_time": "2022-12-31T09:37:08.074437",
     "exception": false,
     "start_time": "2022-12-31T09:37:07.812571",
     "status": "completed"
    },
    "tags": []
   },
   "outputs": [],
   "source": [
    "from sklearn.model_selection import train_test_split"
   ]
  },
  {
   "cell_type": "code",
   "execution_count": 14,
   "id": "4435a18e",
   "metadata": {
    "execution": {
     "iopub.execute_input": "2022-12-31T09:37:08.111456Z",
     "iopub.status.busy": "2022-12-31T09:37:08.110620Z",
     "iopub.status.idle": "2022-12-31T09:37:08.117118Z",
     "shell.execute_reply": "2022-12-31T09:37:08.115857Z"
    },
    "papermill": {
     "duration": 0.027852,
     "end_time": "2022-12-31T09:37:08.120045",
     "exception": false,
     "start_time": "2022-12-31T09:37:08.092193",
     "status": "completed"
    },
    "tags": []
   },
   "outputs": [],
   "source": [
    "x=df.drop(['quality'],axis=1)\n",
    "y=df['quality']"
   ]
  },
  {
   "cell_type": "code",
   "execution_count": 15,
   "id": "d6db8a33",
   "metadata": {
    "execution": {
     "iopub.execute_input": "2022-12-31T09:37:08.156662Z",
     "iopub.status.busy": "2022-12-31T09:37:08.155784Z",
     "iopub.status.idle": "2022-12-31T09:37:08.162960Z",
     "shell.execute_reply": "2022-12-31T09:37:08.161784Z"
    },
    "papermill": {
     "duration": 0.028083,
     "end_time": "2022-12-31T09:37:08.165525",
     "exception": false,
     "start_time": "2022-12-31T09:37:08.137442",
     "status": "completed"
    },
    "tags": []
   },
   "outputs": [],
   "source": [
    "xtrain,xtest,ytrain,ytest=train_test_split(x,y,test_size=0.2,random_state=42)"
   ]
  },
  {
   "cell_type": "markdown",
   "id": "587c7588",
   "metadata": {
    "papermill": {
     "duration": 0.016963,
     "end_time": "2022-12-31T09:37:08.199541",
     "exception": false,
     "start_time": "2022-12-31T09:37:08.182578",
     "status": "completed"
    },
    "tags": []
   },
   "source": [
    "# > scaling "
   ]
  },
  {
   "cell_type": "code",
   "execution_count": 16,
   "id": "2bc9a0dd",
   "metadata": {
    "execution": {
     "iopub.execute_input": "2022-12-31T09:37:08.235887Z",
     "iopub.status.busy": "2022-12-31T09:37:08.235055Z",
     "iopub.status.idle": "2022-12-31T09:37:08.239820Z",
     "shell.execute_reply": "2022-12-31T09:37:08.238873Z"
    },
    "papermill": {
     "duration": 0.025409,
     "end_time": "2022-12-31T09:37:08.242194",
     "exception": false,
     "start_time": "2022-12-31T09:37:08.216785",
     "status": "completed"
    },
    "tags": []
   },
   "outputs": [],
   "source": [
    "from sklearn.preprocessing import StandardScaler"
   ]
  },
  {
   "cell_type": "code",
   "execution_count": 17,
   "id": "7fbcdbd4",
   "metadata": {
    "execution": {
     "iopub.execute_input": "2022-12-31T09:37:08.277361Z",
     "iopub.status.busy": "2022-12-31T09:37:08.276954Z",
     "iopub.status.idle": "2022-12-31T09:37:08.282445Z",
     "shell.execute_reply": "2022-12-31T09:37:08.281033Z"
    },
    "papermill": {
     "duration": 0.026294,
     "end_time": "2022-12-31T09:37:08.285099",
     "exception": false,
     "start_time": "2022-12-31T09:37:08.258805",
     "status": "completed"
    },
    "tags": []
   },
   "outputs": [],
   "source": [
    "sc=StandardScaler()"
   ]
  },
  {
   "cell_type": "code",
   "execution_count": 18,
   "id": "989b2abb",
   "metadata": {
    "execution": {
     "iopub.execute_input": "2022-12-31T09:37:08.321444Z",
     "iopub.status.busy": "2022-12-31T09:37:08.320767Z",
     "iopub.status.idle": "2022-12-31T09:37:08.334501Z",
     "shell.execute_reply": "2022-12-31T09:37:08.333408Z"
    },
    "papermill": {
     "duration": 0.034819,
     "end_time": "2022-12-31T09:37:08.337392",
     "exception": false,
     "start_time": "2022-12-31T09:37:08.302573",
     "status": "completed"
    },
    "tags": []
   },
   "outputs": [],
   "source": [
    "xtrain=sc.fit_transform(xtrain)\n",
    "xtest=sc.fit_transform(xtest)\n"
   ]
  },
  {
   "cell_type": "markdown",
   "id": "305bf05f",
   "metadata": {
    "papermill": {
     "duration": 0.016234,
     "end_time": "2022-12-31T09:37:08.370448",
     "exception": false,
     "start_time": "2022-12-31T09:37:08.354214",
     "status": "completed"
    },
    "tags": []
   },
   "source": []
  },
  {
   "cell_type": "markdown",
   "id": "c4630c58",
   "metadata": {
    "papermill": {
     "duration": 0.016402,
     "end_time": "2022-12-31T09:37:08.403543",
     "exception": false,
     "start_time": "2022-12-31T09:37:08.387141",
     "status": "completed"
    },
    "tags": []
   },
   "source": [
    "# SVM"
   ]
  },
  {
   "cell_type": "code",
   "execution_count": 19,
   "id": "a86dbed8",
   "metadata": {
    "execution": {
     "iopub.execute_input": "2022-12-31T09:37:08.440342Z",
     "iopub.status.busy": "2022-12-31T09:37:08.439930Z",
     "iopub.status.idle": "2022-12-31T09:37:08.527663Z",
     "shell.execute_reply": "2022-12-31T09:37:08.526404Z"
    },
    "papermill": {
     "duration": 0.110294,
     "end_time": "2022-12-31T09:37:08.530851",
     "exception": false,
     "start_time": "2022-12-31T09:37:08.420557",
     "status": "completed"
    },
    "tags": []
   },
   "outputs": [],
   "source": [
    "from sklearn.svm import SVC"
   ]
  },
  {
   "cell_type": "code",
   "execution_count": 20,
   "id": "06f42e0f",
   "metadata": {
    "execution": {
     "iopub.execute_input": "2022-12-31T09:37:08.566220Z",
     "iopub.status.busy": "2022-12-31T09:37:08.565711Z",
     "iopub.status.idle": "2022-12-31T09:37:08.575239Z",
     "shell.execute_reply": "2022-12-31T09:37:08.574317Z"
    },
    "papermill": {
     "duration": 0.02973,
     "end_time": "2022-12-31T09:37:08.577525",
     "exception": false,
     "start_time": "2022-12-31T09:37:08.547795",
     "status": "completed"
    },
    "tags": []
   },
   "outputs": [
    {
     "data": {
      "text/plain": [
       "SVC()"
      ]
     },
     "execution_count": 20,
     "metadata": {},
     "output_type": "execute_result"
    }
   ],
   "source": [
    "reg=SVC()\n",
    "reg"
   ]
  },
  {
   "cell_type": "code",
   "execution_count": 21,
   "id": "c3264f5e",
   "metadata": {
    "execution": {
     "iopub.execute_input": "2022-12-31T09:37:08.613910Z",
     "iopub.status.busy": "2022-12-31T09:37:08.613058Z",
     "iopub.status.idle": "2022-12-31T09:37:08.659123Z",
     "shell.execute_reply": "2022-12-31T09:37:08.658016Z"
    },
    "papermill": {
     "duration": 0.066884,
     "end_time": "2022-12-31T09:37:08.661742",
     "exception": false,
     "start_time": "2022-12-31T09:37:08.594858",
     "status": "completed"
    },
    "tags": []
   },
   "outputs": [
    {
     "data": {
      "text/plain": [
       "SVC()"
      ]
     },
     "execution_count": 21,
     "metadata": {},
     "output_type": "execute_result"
    }
   ],
   "source": [
    "reg.fit(xtrain,ytrain)"
   ]
  },
  {
   "cell_type": "code",
   "execution_count": 22,
   "id": "9b54590e",
   "metadata": {
    "execution": {
     "iopub.execute_input": "2022-12-31T09:37:08.697844Z",
     "iopub.status.busy": "2022-12-31T09:37:08.696725Z",
     "iopub.status.idle": "2022-12-31T09:37:08.713177Z",
     "shell.execute_reply": "2022-12-31T09:37:08.712015Z"
    },
    "papermill": {
     "duration": 0.037248,
     "end_time": "2022-12-31T09:37:08.715813",
     "exception": false,
     "start_time": "2022-12-31T09:37:08.678565",
     "status": "completed"
    },
    "tags": []
   },
   "outputs": [
    {
     "data": {
      "text/plain": [
       "0.875"
      ]
     },
     "execution_count": 22,
     "metadata": {},
     "output_type": "execute_result"
    }
   ],
   "source": [
    "reg.score(xtest,ytest)"
   ]
  },
  {
   "cell_type": "code",
   "execution_count": 23,
   "id": "1787e9c3",
   "metadata": {
    "execution": {
     "iopub.execute_input": "2022-12-31T09:37:08.751910Z",
     "iopub.status.busy": "2022-12-31T09:37:08.751463Z",
     "iopub.status.idle": "2022-12-31T09:37:08.765158Z",
     "shell.execute_reply": "2022-12-31T09:37:08.763662Z"
    },
    "papermill": {
     "duration": 0.035207,
     "end_time": "2022-12-31T09:37:08.768017",
     "exception": false,
     "start_time": "2022-12-31T09:37:08.732810",
     "status": "completed"
    },
    "tags": []
   },
   "outputs": [],
   "source": [
    "yp=reg.predict(xtest)"
   ]
  },
  {
   "cell_type": "code",
   "execution_count": null,
   "id": "b9dc0f57",
   "metadata": {
    "papermill": {
     "duration": 0.016875,
     "end_time": "2022-12-31T09:37:08.802258",
     "exception": false,
     "start_time": "2022-12-31T09:37:08.785383",
     "status": "completed"
    },
    "tags": []
   },
   "outputs": [],
   "source": []
  },
  {
   "cell_type": "markdown",
   "id": "0b04de91",
   "metadata": {
    "papermill": {
     "duration": 0.016763,
     "end_time": "2022-12-31T09:37:08.835983",
     "exception": false,
     "start_time": "2022-12-31T09:37:08.819220",
     "status": "completed"
    },
    "tags": []
   },
   "source": [
    "# Confusion Matrix"
   ]
  },
  {
   "cell_type": "code",
   "execution_count": 24,
   "id": "83287f05",
   "metadata": {
    "execution": {
     "iopub.execute_input": "2022-12-31T09:37:08.872237Z",
     "iopub.status.busy": "2022-12-31T09:37:08.871804Z",
     "iopub.status.idle": "2022-12-31T09:37:08.876527Z",
     "shell.execute_reply": "2022-12-31T09:37:08.875294Z"
    },
    "papermill": {
     "duration": 0.026227,
     "end_time": "2022-12-31T09:37:08.879050",
     "exception": false,
     "start_time": "2022-12-31T09:37:08.852823",
     "status": "completed"
    },
    "tags": []
   },
   "outputs": [],
   "source": [
    "from sklearn.metrics import confusion_matrix"
   ]
  },
  {
   "cell_type": "code",
   "execution_count": 25,
   "id": "2a0c26a4",
   "metadata": {
    "execution": {
     "iopub.execute_input": "2022-12-31T09:37:08.914800Z",
     "iopub.status.busy": "2022-12-31T09:37:08.914336Z",
     "iopub.status.idle": "2022-12-31T09:37:09.101417Z",
     "shell.execute_reply": "2022-12-31T09:37:09.100043Z"
    },
    "papermill": {
     "duration": 0.208404,
     "end_time": "2022-12-31T09:37:09.104443",
     "exception": false,
     "start_time": "2022-12-31T09:37:08.896039",
     "status": "completed"
    },
    "tags": []
   },
   "outputs": [
    {
     "data": {
      "text/plain": [
       "<AxesSubplot:>"
      ]
     },
     "execution_count": 25,
     "metadata": {},
     "output_type": "execute_result"
    },
    {
     "data": {
      "image/png": "[encoded data removed]",
      "text/plain": [
       "<Figure size 432x288 with 2 Axes>"
      ]
     },
     "metadata": {
      "needs_background": "light"
     },
     "output_type": "display_data"
    }
   ],
   "source": [
    "cm=confusion_matrix(ytest,yp)\n",
    "sns.heatmap(cm)"
   ]
  },
  {
   "cell_type": "markdown",
   "id": "fc208335",
   "metadata": {
    "papermill": {
     "duration": 0.017162,
     "end_time": "2022-12-31T09:37:09.138761",
     "exception": false,
     "start_time": "2022-12-31T09:37:09.121599",
     "status": "completed"
    },
    "tags": []
   },
   "source": [
    "# GridSearchCV"
   ]
  },
  {
   "cell_type": "code",
   "execution_count": 26,
   "id": "0135529e",
   "metadata": {
    "execution": {
     "iopub.execute_input": "2022-12-31T09:37:09.176495Z",
     "iopub.status.busy": "2022-12-31T09:37:09.175266Z",
     "iopub.status.idle": "2022-12-31T09:37:09.181137Z",
     "shell.execute_reply": "2022-12-31T09:37:09.180184Z"
    },
    "papermill": {
     "duration": 0.02714,
     "end_time": "2022-12-31T09:37:09.183658",
     "exception": false,
     "start_time": "2022-12-31T09:37:09.156518",
     "status": "completed"
    },
    "tags": []
   },
   "outputs": [],
   "source": [
    "from sklearn.model_selection import GridSearchCV"
   ]
  },
  {
   "cell_type": "code",
   "execution_count": 27,
   "id": "ec0a3870",
   "metadata": {
    "execution": {
     "iopub.execute_input": "2022-12-31T09:37:09.220452Z",
     "iopub.status.busy": "2022-12-31T09:37:09.219779Z",
     "iopub.status.idle": "2022-12-31T09:37:09.227770Z",
     "shell.execute_reply": "2022-12-31T09:37:09.226717Z"
    },
    "papermill": {
     "duration": 0.028932,
     "end_time": "2022-12-31T09:37:09.230115",
     "exception": false,
     "start_time": "2022-12-31T09:37:09.201183",
     "status": "completed"
    },
    "tags": []
   },
   "outputs": [],
   "source": [
    "model=GridSearchCV(reg,{\n",
    "    'C':[0.1,0.4,0.8,1.0,1.3],\n",
    "    'gamma':[0.1,0.4,0.8,1.0,1.3],\n",
    "    'kernel':['rbf','linear']\n",
    "},scoring='accuracy',cv=10)\n"
   ]
  },
  {
   "cell_type": "code",
   "execution_count": 28,
   "id": "d5d1b8eb",
   "metadata": {
    "execution": {
     "iopub.execute_input": "2022-12-31T09:37:09.267329Z",
     "iopub.status.busy": "2022-12-31T09:37:09.266314Z",
     "iopub.status.idle": "2022-12-31T09:37:29.996859Z",
     "shell.execute_reply": "2022-12-31T09:37:29.995422Z"
    },
    "papermill": {
     "duration": 20.751817,
     "end_time": "2022-12-31T09:37:29.999656",
     "exception": false,
     "start_time": "2022-12-31T09:37:09.247839",
     "status": "completed"
    },
    "tags": []
   },
   "outputs": [
    {
     "data": {
      "text/plain": [
       "GridSearchCV(cv=10, estimator=SVC(),\n",
       "             param_grid={'C': [0.1, 0.4, 0.8, 1.0, 1.3],\n",
       "                         'gamma': [0.1, 0.4, 0.8, 1.0, 1.3],\n",
       "                         'kernel': ['rbf', 'linear']},\n",
       "             scoring='accuracy')"
      ]
     },
     "execution_count": 28,
     "metadata": {},
     "output_type": "execute_result"
    }
   ],
   "source": [
    "model.fit(xtrain,ytrain)"
   ]
  },
  {
   "cell_type": "code",
   "execution_count": 29,
   "id": "eb064ca9",
   "metadata": {
    "execution": {
     "iopub.execute_input": "2022-12-31T09:37:30.038213Z",
     "iopub.status.busy": "2022-12-31T09:37:30.037773Z",
     "iopub.status.idle": "2022-12-31T09:37:30.065752Z",
     "shell.execute_reply": "2022-12-31T09:37:30.064466Z"
    },
    "papermill": {
     "duration": 0.050415,
     "end_time": "2022-12-31T09:37:30.068509",
     "exception": false,
     "start_time": "2022-12-31T09:37:30.018094",
     "status": "completed"
    },
    "tags": []
   },
   "outputs": [
    {
     "data": {
      "text/plain": [
       "0.896875"
      ]
     },
     "execution_count": 29,
     "metadata": {},
     "output_type": "execute_result"
    }
   ],
   "source": [
    "model.score(xtest,ytest)"
   ]
  },
  {
   "cell_type": "code",
   "execution_count": 30,
   "id": "9c706a4d",
   "metadata": {
    "execution": {
     "iopub.execute_input": "2022-12-31T09:37:30.106670Z",
     "iopub.status.busy": "2022-12-31T09:37:30.106188Z",
     "iopub.status.idle": "2022-12-31T09:37:30.114577Z",
     "shell.execute_reply": "2022-12-31T09:37:30.113134Z"
    },
    "papermill": {
     "duration": 0.030722,
     "end_time": "2022-12-31T09:37:30.117099",
     "exception": false,
     "start_time": "2022-12-31T09:37:30.086377",
     "status": "completed"
    },
    "tags": []
   },
   "outputs": [
    {
     "data": {
      "text/plain": [
       "{'C': 1.3, 'gamma': 1.0, 'kernel': 'rbf'}"
      ]
     },
     "execution_count": 30,
     "metadata": {},
     "output_type": "execute_result"
    }
   ],
   "source": [
    "model.best_params_"
   ]
  },
  {
   "cell_type": "code",
   "execution_count": 31,
   "id": "ae14f03c",
   "metadata": {
    "execution": {
     "iopub.execute_input": "2022-12-31T09:37:30.156104Z",
     "iopub.status.busy": "2022-12-31T09:37:30.155641Z",
     "iopub.status.idle": "2022-12-31T09:37:30.161244Z",
     "shell.execute_reply": "2022-12-31T09:37:30.159854Z"
    },
    "papermill": {
     "duration": 0.028728,
     "end_time": "2022-12-31T09:37:30.163914",
     "exception": false,
     "start_time": "2022-12-31T09:37:30.135186",
     "status": "completed"
    },
    "tags": []
   },
   "outputs": [],
   "source": [
    "mod=SVC(C=1.3,gamma=1.0,kernel='rbf')"
   ]
  },
  {
   "cell_type": "code",
   "execution_count": 32,
   "id": "b6c1f7c8",
   "metadata": {
    "execution": {
     "iopub.execute_input": "2022-12-31T09:37:30.202120Z",
     "iopub.status.busy": "2022-12-31T09:37:30.201319Z",
     "iopub.status.idle": "2022-12-31T09:37:30.294335Z",
     "shell.execute_reply": "2022-12-31T09:37:30.293064Z"
    },
    "papermill": {
     "duration": 0.115331,
     "end_time": "2022-12-31T09:37:30.296921",
     "exception": false,
     "start_time": "2022-12-31T09:37:30.181590",
     "status": "completed"
    },
    "tags": []
   },
   "outputs": [
    {
     "data": {
      "text/plain": [
       "SVC(C=1.3, gamma=1.0)"
      ]
     },
     "execution_count": 32,
     "metadata": {},
     "output_type": "execute_result"
    }
   ],
   "source": [
    "mod.fit(xtrain,ytrain)"
   ]
  },
  {
   "cell_type": "code",
   "execution_count": 33,
   "id": "ad2b2e11",
   "metadata": {
    "execution": {
     "iopub.execute_input": "2022-12-31T09:37:30.335274Z",
     "iopub.status.busy": "2022-12-31T09:37:30.334859Z",
     "iopub.status.idle": "2022-12-31T09:37:30.362492Z",
     "shell.execute_reply": "2022-12-31T09:37:30.361181Z"
    },
    "papermill": {
     "duration": 0.050116,
     "end_time": "2022-12-31T09:37:30.365164",
     "exception": false,
     "start_time": "2022-12-31T09:37:30.315048",
     "status": "completed"
    },
    "tags": []
   },
   "outputs": [
    {
     "data": {
      "text/plain": [
       "0.896875"
      ]
     },
     "execution_count": 33,
     "metadata": {},
     "output_type": "execute_result"
    }
   ],
   "source": [
    "mod.score(xtest,ytest)"
   ]
  },
  {
   "cell_type": "code",
   "execution_count": null,
   "id": "064c127b",
   "metadata": {
    "papermill": {
     "duration": 0.017405,
     "end_time": "2022-12-31T09:37:30.401998",
     "exception": false,
     "start_time": "2022-12-31T09:37:30.384593",
     "status": "completed"
    },
    "tags": []
   },
   "outputs": [],
   "source": []
  },
  {
   "cell_type": "markdown",
   "id": "94c637da",
   "metadata": {
    "papermill": {
     "duration": 0.017917,
     "end_time": "2022-12-31T09:37:30.437485",
     "exception": false,
     "start_time": "2022-12-31T09:37:30.419568",
     "status": "completed"
    },
    "tags": []
   },
   "source": [
    "# Random Forest Classifier"
   ]
  },
  {
   "cell_type": "code",
   "execution_count": 34,
   "id": "a0fcdc7f",
   "metadata": {
    "execution": {
     "iopub.execute_input": "2022-12-31T09:37:30.475025Z",
     "iopub.status.busy": "2022-12-31T09:37:30.474579Z",
     "iopub.status.idle": "2022-12-31T09:37:30.630948Z",
     "shell.execute_reply": "2022-12-31T09:37:30.629565Z"
    },
    "papermill": {
     "duration": 0.17918,
     "end_time": "2022-12-31T09:37:30.634306",
     "exception": false,
     "start_time": "2022-12-31T09:37:30.455126",
     "status": "completed"
    },
    "tags": []
   },
   "outputs": [],
   "source": [
    "from sklearn.ensemble import RandomForestClassifier"
   ]
  },
  {
   "cell_type": "code",
   "execution_count": 35,
   "id": "3483b3a7",
   "metadata": {
    "execution": {
     "iopub.execute_input": "2022-12-31T09:37:30.675062Z",
     "iopub.status.busy": "2022-12-31T09:37:30.674582Z",
     "iopub.status.idle": "2022-12-31T09:37:30.681508Z",
     "shell.execute_reply": "2022-12-31T09:37:30.680119Z"
    },
    "papermill": {
     "duration": 0.030902,
     "end_time": "2022-12-31T09:37:30.684194",
     "exception": false,
     "start_time": "2022-12-31T09:37:30.653292",
     "status": "completed"
    },
    "tags": []
   },
   "outputs": [],
   "source": [
    "rfc=RandomForestClassifier(n_estimators=200)"
   ]
  },
  {
   "cell_type": "code",
   "execution_count": 36,
   "id": "4894d234",
   "metadata": {
    "execution": {
     "iopub.execute_input": "2022-12-31T09:37:30.721455Z",
     "iopub.status.busy": "2022-12-31T09:37:30.720998Z",
     "iopub.status.idle": "2022-12-31T09:37:31.333540Z",
     "shell.execute_reply": "2022-12-31T09:37:31.331934Z"
    },
    "papermill": {
     "duration": 0.634603,
     "end_time": "2022-12-31T09:37:31.336498",
     "exception": false,
     "start_time": "2022-12-31T09:37:30.701895",
     "status": "completed"
    },
    "tags": []
   },
   "outputs": [
    {
     "data": {
      "text/plain": [
       "RandomForestClassifier(n_estimators=200)"
      ]
     },
     "execution_count": 36,
     "metadata": {},
     "output_type": "execute_result"
    }
   ],
   "source": [
    "rfc.fit(xtrain,ytrain)"
   ]
  },
  {
   "cell_type": "code",
   "execution_count": 37,
   "id": "6d09345d",
   "metadata": {
    "execution": {
     "iopub.execute_input": "2022-12-31T09:37:31.375203Z",
     "iopub.status.busy": "2022-12-31T09:37:31.374773Z",
     "iopub.status.idle": "2022-12-31T09:37:31.417696Z",
     "shell.execute_reply": "2022-12-31T09:37:31.416435Z"
    },
    "papermill": {
     "duration": 0.065689,
     "end_time": "2022-12-31T09:37:31.420127",
     "exception": false,
     "start_time": "2022-12-31T09:37:31.354438",
     "status": "completed"
    },
    "tags": []
   },
   "outputs": [
    {
     "data": {
      "text/plain": [
       "0.88125"
      ]
     },
     "execution_count": 37,
     "metadata": {},
     "output_type": "execute_result"
    }
   ],
   "source": [
    "rfc.score(xtest,ytest)"
   ]
  },
  {
   "cell_type": "markdown",
   "id": "10d77080",
   "metadata": {
    "papermill": {
     "duration": 0.01733,
     "end_time": "2022-12-31T09:37:31.455142",
     "exception": false,
     "start_time": "2022-12-31T09:37:31.437812",
     "status": "completed"
    },
    "tags": []
   },
   "source": [
    "# Cross_val_score"
   ]
  },
  {
   "cell_type": "code",
   "execution_count": 38,
   "id": "71f89f4b",
   "metadata": {
    "execution": {
     "iopub.execute_input": "2022-12-31T09:37:31.492921Z",
     "iopub.status.busy": "2022-12-31T09:37:31.492460Z",
     "iopub.status.idle": "2022-12-31T09:37:31.497605Z",
     "shell.execute_reply": "2022-12-31T09:37:31.496438Z"
    },
    "papermill": {
     "duration": 0.027256,
     "end_time": "2022-12-31T09:37:31.500118",
     "exception": false,
     "start_time": "2022-12-31T09:37:31.472862",
     "status": "completed"
    },
    "tags": []
   },
   "outputs": [],
   "source": [
    "from sklearn.model_selection import cross_val_score"
   ]
  },
  {
   "cell_type": "code",
   "execution_count": 39,
   "id": "c0c22fb7",
   "metadata": {
    "execution": {
     "iopub.execute_input": "2022-12-31T09:37:31.538317Z",
     "iopub.status.busy": "2022-12-31T09:37:31.537861Z",
     "iopub.status.idle": "2022-12-31T09:37:37.447469Z",
     "shell.execute_reply": "2022-12-31T09:37:37.446345Z"
    },
    "papermill": {
     "duration": 5.932034,
     "end_time": "2022-12-31T09:37:37.450101",
     "exception": false,
     "start_time": "2022-12-31T09:37:31.518067",
     "status": "completed"
    },
    "tags": []
   },
   "outputs": [],
   "source": [
    "rfc2=cross_val_score(estimator=rfc,X=xtrain,y=ytrain,cv=10)"
   ]
  },
  {
   "cell_type": "code",
   "execution_count": 40,
   "id": "468e66d0",
   "metadata": {
    "execution": {
     "iopub.execute_input": "2022-12-31T09:37:37.489679Z",
     "iopub.status.busy": "2022-12-31T09:37:37.488214Z",
     "iopub.status.idle": "2022-12-31T09:37:37.496290Z",
     "shell.execute_reply": "2022-12-31T09:37:37.495061Z"
    },
    "papermill": {
     "duration": 0.030269,
     "end_time": "2022-12-31T09:37:37.498834",
     "exception": false,
     "start_time": "2022-12-31T09:37:37.468565",
     "status": "completed"
    },
    "tags": []
   },
   "outputs": [
    {
     "data": {
      "text/plain": [
       "0.9101193405511812"
      ]
     },
     "execution_count": 40,
     "metadata": {},
     "output_type": "execute_result"
    }
   ],
   "source": [
    "rfc2.mean()"
   ]
  },
  {
   "cell_type": "markdown",
   "id": "aa34b9be",
   "metadata": {
    "papermill": {
     "duration": 0.017667,
     "end_time": "2022-12-31T09:37:37.535257",
     "exception": false,
     "start_time": "2022-12-31T09:37:37.517590",
     "status": "completed"
    },
    "tags": []
   },
   "source": [
    "# Prediction"
   ]
  },
  {
   "cell_type": "code",
   "execution_count": 41,
   "id": "e6f8d233",
   "metadata": {
    "execution": {
     "iopub.execute_input": "2022-12-31T09:37:37.576789Z",
     "iopub.status.busy": "2022-12-31T09:37:37.576290Z",
     "iopub.status.idle": "2022-12-31T09:37:37.596688Z",
     "shell.execute_reply": "2022-12-31T09:37:37.594937Z"
    },
    "papermill": {
     "duration": 0.045075,
     "end_time": "2022-12-31T09:37:37.599506",
     "exception": false,
     "start_time": "2022-12-31T09:37:37.554431",
     "status": "completed"
    },
    "tags": []
   },
   "outputs": [
    {
     "data": {
      "text/html": [
       "<div>\n",
       "<style scoped>\n",
       "    .dataframe tbody tr th:only-of-type {\n",
       "        vertical-align: middle;\n",
       "    }\n",
       "\n",
       "    .dataframe tbody tr th {\n",
       "        vertical-align: top;\n",
       "    }\n",
       "\n",
       "    .dataframe thead th {\n",
       "        text-align: right;\n",
       "    }\n",
       "</style>\n",
       "<table border=\"1\" class=\"dataframe\">\n",
       "  <thead>\n",
       "    <tr style=\"text-align: right;\">\n",
       "      <th></th>\n",
       "      <th>fixed_acidity</th>\n",
       "      <th>volatile_acidity</th>\n",
       "      <th>citric_acid</th>\n",
       "      <th>residual_sugar</th>\n",
       "      <th>chlorides</th>\n",
       "      <th>free_sulfur_dioxide</th>\n",
       "      <th>total_sulfur_dioxide</th>\n",
       "      <th>density</th>\n",
       "      <th>pH</th>\n",
       "      <th>sulphates</th>\n",
       "      <th>alcohol</th>\n",
       "      <th>quality</th>\n",
       "    </tr>\n",
       "  </thead>\n",
       "  <tbody>\n",
       "    <tr>\n",
       "      <th>0</th>\n",
       "      <td>7.4</td>\n",
       "      <td>0.7</td>\n",
       "      <td>0.0</td>\n",
       "      <td>1.9</td>\n",
       "      <td>0.076</td>\n",
       "      <td>11.0</td>\n",
       "      <td>34.0</td>\n",
       "      <td>0.9978</td>\n",
       "      <td>3.51</td>\n",
       "      <td>0.56</td>\n",
       "      <td>9.4</td>\n",
       "      <td>0</td>\n",
       "    </tr>\n",
       "  </tbody>\n",
       "</table>\n",
       "</div>"
      ],
      "text/plain": [
       "   fixed_acidity  volatile_acidity  citric_acid  residual_sugar  chlorides  \\\n",
       "0            7.4               0.7          0.0             1.9      0.076   \n",
       "\n",
       "   free_sulfur_dioxide  total_sulfur_dioxide  density    pH  sulphates  \\\n",
       "0                 11.0                  34.0   0.9978  3.51       0.56   \n",
       "\n",
       "   alcohol  quality  \n",
       "0      9.4        0  "
      ]
     },
     "execution_count": 41,
     "metadata": {},
     "output_type": "execute_result"
    }
   ],
   "source": [
    "df.head(1)"
   ]
  },
  {
   "cell_type": "code",
   "execution_count": 42,
   "id": "d6307cb5",
   "metadata": {
    "execution": {
     "iopub.execute_input": "2022-12-31T09:37:37.638018Z",
     "iopub.status.busy": "2022-12-31T09:37:37.637536Z",
     "iopub.status.idle": "2022-12-31T09:37:37.642712Z",
     "shell.execute_reply": "2022-12-31T09:37:37.641727Z"
    },
    "papermill": {
     "duration": 0.027599,
     "end_time": "2022-12-31T09:37:37.645360",
     "exception": false,
     "start_time": "2022-12-31T09:37:37.617761",
     "status": "completed"
    },
    "tags": []
   },
   "outputs": [],
   "source": [
    "a=[['6.0','0.3','0.4','2.4','0.02','10.0','30','0.99','4.5','0.55','12.0']]"
   ]
  },
  {
   "cell_type": "code",
   "execution_count": 43,
   "id": "c2f038cc",
   "metadata": {
    "execution": {
     "iopub.execute_input": "2022-12-31T09:37:37.685407Z",
     "iopub.status.busy": "2022-12-31T09:37:37.684734Z",
     "iopub.status.idle": "2022-12-31T09:37:37.693000Z",
     "shell.execute_reply": "2022-12-31T09:37:37.691707Z"
    },
    "papermill": {
     "duration": 0.030858,
     "end_time": "2022-12-31T09:37:37.695605",
     "exception": false,
     "start_time": "2022-12-31T09:37:37.664747",
     "status": "completed"
    },
    "tags": []
   },
   "outputs": [
    {
     "data": {
      "text/plain": [
       "array([0])"
      ]
     },
     "execution_count": 43,
     "metadata": {},
     "output_type": "execute_result"
    }
   ],
   "source": [
    "mod.predict(a)"
   ]
  },
  {
   "cell_type": "code",
   "execution_count": 44,
   "id": "21e18ce7",
   "metadata": {
    "execution": {
     "iopub.execute_input": "2022-12-31T09:37:37.734829Z",
     "iopub.status.busy": "2022-12-31T09:37:37.734378Z",
     "iopub.status.idle": "2022-12-31T09:37:37.743465Z",
     "shell.execute_reply": "2022-12-31T09:37:37.742060Z"
    },
    "papermill": {
     "duration": 0.031921,
     "end_time": "2022-12-31T09:37:37.746137",
     "exception": false,
     "start_time": "2022-12-31T09:37:37.714216",
     "status": "completed"
    },
    "tags": []
   },
   "outputs": [
    {
     "data": {
      "text/plain": [
       "array([0])"
      ]
     },
     "execution_count": 44,
     "metadata": {},
     "output_type": "execute_result"
    }
   ],
   "source": [
    "model.predict(a)"
   ]
  },
  {
   "cell_type": "markdown",
   "id": "e7e1cf46",
   "metadata": {
    "papermill": {
     "duration": 0.019283,
     "end_time": "2022-12-31T09:37:37.784575",
     "exception": false,
     "start_time": "2022-12-31T09:37:37.765292",
     "status": "completed"
    },
    "tags": []
   },
   "source": [
    "> model predict the quality is zero"
   ]
  },
  {
   "cell_type": "markdown",
   "id": "12aaa420",
   "metadata": {
    "papermill": {
     "duration": 0.019352,
     "end_time": "2022-12-31T09:37:37.822907",
     "exception": false,
     "start_time": "2022-12-31T09:37:37.803555",
     "status": "completed"
    },
    "tags": []
   },
   "source": []
  },
  {
   "cell_type": "code",
   "execution_count": null,
   "id": "8f7783a5",
   "metadata": {
    "papermill": {
     "duration": 0.018913,
     "end_time": "2022-12-31T09:37:37.862390",
     "exception": false,
     "start_time": "2022-12-31T09:37:37.843477",
     "status": "completed"
    },
    "tags": []
   },
   "outputs": [],
   "source": []
  },
  {
   "cell_type": "markdown",
   "id": "56d5b4b2",
   "metadata": {
    "papermill": {
     "duration": 0.018595,
     "end_time": "2022-12-31T09:37:37.899489",
     "exception": false,
     "start_time": "2022-12-31T09:37:37.880894",
     "status": "completed"
    },
    "tags": []
   },
   "source": [
    "# Saving a model"
   ]
  },
  {
   "cell_type": "code",
   "execution_count": 45,
   "id": "b9614dd9",
   "metadata": {
    "execution": {
     "iopub.execute_input": "2022-12-31T09:37:37.942227Z",
     "iopub.status.busy": "2022-12-31T09:37:37.941793Z",
     "iopub.status.idle": "2022-12-31T09:37:37.946666Z",
     "shell.execute_reply": "2022-12-31T09:37:37.945663Z"
    },
    "papermill": {
     "duration": 0.028342,
     "end_time": "2022-12-31T09:37:37.948869",
     "exception": false,
     "start_time": "2022-12-31T09:37:37.920527",
     "status": "completed"
    },
    "tags": []
   },
   "outputs": [],
   "source": [
    "import pickle"
   ]
  },
  {
   "cell_type": "code",
   "execution_count": 46,
   "id": "72f15fed",
   "metadata": {
    "execution": {
     "iopub.execute_input": "2022-12-31T09:37:37.988143Z",
     "iopub.status.busy": "2022-12-31T09:37:37.987685Z",
     "iopub.status.idle": "2022-12-31T09:37:37.995027Z",
     "shell.execute_reply": "2022-12-31T09:37:37.993663Z"
    },
    "papermill": {
     "duration": 0.030061,
     "end_time": "2022-12-31T09:37:37.997964",
     "exception": false,
     "start_time": "2022-12-31T09:37:37.967903",
     "status": "completed"
    },
    "tags": []
   },
   "outputs": [],
   "source": [
    "model='mod.sav'\n",
    "pickle.dump(mod,open(model,'wb'))"
   ]
  },
  {
   "cell_type": "code",
   "execution_count": null,
   "id": "09c87b1f",
   "metadata": {
    "papermill": {
     "duration": 0.018971,
     "end_time": "2022-12-31T09:37:38.036659",
     "exception": false,
     "start_time": "2022-12-31T09:37:38.017688",
     "status": "completed"
    },
    "tags": []
   },
   "outputs": [],
   "source": []
  },
  {
   "cell_type": "markdown",
   "id": "3f217262",
   "metadata": {
    "papermill": {
     "duration": 0.018928,
     "end_time": "2022-12-31T09:37:38.074824",
     "exception": false,
     "start_time": "2022-12-31T09:37:38.055896",
     "status": "completed"
    },
    "tags": []
   },
   "source": [
    "> If you like my notebook do upvote and comment\n",
    "# ** Thanks"
   ]
  },
  {
   "cell_type": "code",
   "execution_count": null,
   "id": "e9d5a19a",
   "metadata": {
    "papermill": {
     "duration": 0.018439,
     "end_time": "2022-12-31T09:37:38.111872",
     "exception": false,
     "start_time": "2022-12-31T09:37:38.093433",
     "status": "completed"
    },
    "tags": []
   },
   "outputs": [],
   "source": []
  }
 ],
 "metadata": {
  "kernelspec": {
   "display_name": "Python 3",
   "language": "python",
   "name": "python3"
  },
  "language_info": {
   "codemirror_mode": {
    "name": "ipython",
    "version": 3
   },
   "file_extension": ".py",
   "mimetype": "text/x-python",
   "name": "python",
   "nbconvert_exporter": "python",
   "pygments_lexer": "ipython3",
   "version": "3.7.12"
  },
  "papermill": {
   "default_parameters": {},
   "duration": 48.16178,
   "end_time": "2022-12-31T09:37:38.953102",
   "environment_variables": {},
   "exception": null,
   "input_path": "__notebook__.ipynb",
   "output_path": "__notebook__.ipynb",
   "parameters": {},
   "start_time": "2022-12-31T09:36:50.791322",
   "version": "2.3.4"
  }
 },
 "nbformat": 4,
 "nbformat_minor": 5
}
